{
 "cells": [
  {
   "cell_type": "markdown",
   "metadata": {},
   "source": [
    "# Install Colab Env. packages"
   ]
  },
  {
   "cell_type": "code",
   "execution_count": null,
   "metadata": {},
   "outputs": [],
   "source": [
    "!pip install torch\n",
    "!pip install torchvision\n",
    "!pip install matplotlib\n",
    "!pip install librosa\n",
    "!pip install mir_eval\n",
    "!pip install dill\n",
    "!pip install pretty_midi\n",
    "!pip install midiutil\n",
    "!pip install pysoundfile\n",
    "!apt-get update\n",
    "!apt-get install fluidsynth\n",
    "!pip install googledrivedownloader\n",
    "from google_drive_downloader import GoogleDriveDownloader as gdd; import os;\n",
    "gdd.download_file_from_google_drive(file_id='13ht_rPUUlle764VJRZOXEWGK5cPlY8Qd', dest_path='./files.zip', unzip=True); os.remove('files.zip');\n",
    "print (\"### Show files ###\")\n",
    "!ls ./"
   ]
  },
  {
   "cell_type": "markdown",
   "metadata": {},
   "source": [
    "# Data pre-processing"
   ]
  },
  {
   "cell_type": "markdown",
   "metadata": {},
   "source": [
    "## Import library"
   ]
  },
  {
   "cell_type": "code",
   "execution_count": null,
   "metadata": {},
   "outputs": [],
   "source": [
    "%run read_library.py"
   ]
  },
  {
   "cell_type": "markdown",
   "metadata": {},
   "source": [
    "## The content of the library file:\n",
    "## https://github.com/Sma1033/music_ai_course/blob/master/read_library.ipynb"
   ]
  },
  {
   "cell_type": "markdown",
   "metadata": {},
   "source": [
    "## Load MIDI file"
   ]
  },
  {
   "cell_type": "code",
   "execution_count": null,
   "metadata": {},
   "outputs": [],
   "source": [
    "midi_data = load_midi_file('./drum_midi.mid')"
   ]
  },
  {
   "cell_type": "markdown",
   "metadata": {},
   "source": [
    "## Check MIDI file content (first four bar)"
   ]
  },
  {
   "cell_type": "code",
   "execution_count": null,
   "metadata": {},
   "outputs": [],
   "source": [
    "plot_first_four_bar(midi_data, 4)"
   ]
  },
  {
   "cell_type": "markdown",
   "metadata": {},
   "source": [
    "## Check MIDI data statistics"
   ]
  },
  {
   "cell_type": "code",
   "execution_count": null,
   "metadata": {},
   "outputs": [],
   "source": [
    "# instruments mapping from note number to GM instruments\n",
    "# 36 : Kick Drum       (KD)         # 44 : Pedal HH     (PdHH)\n",
    "# 37 : SD ring shot    (SDrs)       # 47 : Low Mid-Tom  (LMT)\n",
    "# 38 : Snare Drum      (SD)         # 50 : High Tom     (HT)\n",
    "# 42 : Closed HH       (CsdHH)      # 51 : Ride Cymbal  (RC)\n",
    "# 43 : High Floor Tom  (HFT)        # 56 : Cowbell      (CB)\n",
    "\n",
    "analyse_drum(midi_data)"
   ]
  },
  {
   "cell_type": "markdown",
   "metadata": {},
   "source": [
    "## Clean data"
   ]
  },
  {
   "cell_type": "code",
   "execution_count": null,
   "metadata": {},
   "outputs": [],
   "source": [
    "keep_sound = [36, 37, 38, 42]\n",
    "\n",
    "md_patterns = get_simplified_data(midi_data, keep_sound)"
   ]
  },
  {
   "cell_type": "markdown",
   "metadata": {},
   "source": [
    "## Save data into file"
   ]
  },
  {
   "cell_type": "code",
   "execution_count": null,
   "metadata": {},
   "outputs": [],
   "source": [
    "save_data(md_patterns, 'drum_patterns.dill')"
   ]
  },
  {
   "cell_type": "markdown",
   "metadata": {},
   "source": [
    "# Build GAN Model"
   ]
  },
  {
   "cell_type": "markdown",
   "metadata": {},
   "source": [
    "## Make dataset from drum pattern file"
   ]
  },
  {
   "cell_type": "code",
   "execution_count": null,
   "metadata": {},
   "outputs": [],
   "source": [
    "# dataset = md_dataset('drum_patterns')\n",
    "midi_dataset = DataLoader(dataset=md_dataset('drum_patterns.dill'),\n",
    "                          batch_size=config.batch_size,\n",
    "                          shuffle=True,\n",
    "                          num_workers=4)"
   ]
  },
  {
   "cell_type": "markdown",
   "metadata": {},
   "source": [
    "## Set Generator & Discriminator network"
   ]
  },
  {
   "cell_type": "code",
   "execution_count": null,
   "metadata": {},
   "outputs": [],
   "source": [
    "# Initialize generator and discriminator\n",
    "generator = Generator()\n",
    "discriminator = Discriminator()\n",
    "\n",
    "# check network parameters\n",
    "count_parameters(generator, discriminator)"
   ]
  },
  {
   "cell_type": "markdown",
   "metadata": {},
   "source": [
    "## Set loss function & G/D optimizer"
   ]
  },
  {
   "cell_type": "code",
   "execution_count": null,
   "metadata": {},
   "outputs": [],
   "source": [
    "# Loss function\n",
    "loss = torch.nn.BCEWithLogitsLoss()\n",
    "\n",
    "# Optimizers\n",
    "optimizer_G = torch.optim.RMSprop(generator.parameters(),     lr=config.g_lr, alpha=0.9)\n",
    "optimizer_D = torch.optim.RMSprop(discriminator.parameters(), lr=config.d_lr, alpha=0.9)"
   ]
  },
  {
   "cell_type": "markdown",
   "metadata": {},
   "source": [
    "## Move model to GPU"
   ]
  },
  {
   "cell_type": "code",
   "execution_count": null,
   "metadata": {},
   "outputs": [],
   "source": [
    "set_model_gpu(generator, discriminator)"
   ]
  },
  {
   "cell_type": "markdown",
   "metadata": {},
   "source": [
    "## Reload network parameters"
   ]
  },
  {
   "cell_type": "code",
   "execution_count": null,
   "metadata": {},
   "outputs": [],
   "source": [
    "reload = False\n",
    "\n",
    "reload_models(generator, discriminator, reload)"
   ]
  },
  {
   "cell_type": "markdown",
   "metadata": {},
   "source": [
    "## Training model section"
   ]
  },
  {
   "cell_type": "code",
   "execution_count": null,
   "metadata": {},
   "outputs": [],
   "source": [
    "# Adversarial ground truths\n",
    "real_label, fake_label = get_labels()\n",
    "\n",
    "# show start time\n",
    "print (\"Start training process...\")\n",
    "print (datetime.now().strftime('%Y-%m-%d  %H:%M:%S'))\n",
    "\n",
    "# the training for loop, run \"config.n_epochs+1\" epochs\n",
    "for epoch in range(config.n_epochs+1):\n",
    "    \n",
    "    # iteratively read data from 'midi_dataset'\n",
    "    for i, data in enumerate(midi_dataset):\n",
    "        \n",
    "        # stop current iteration if batch_size is not full\n",
    "        if (data.shape[0] != config.batch_size):\n",
    "            break            \n",
    "            \n",
    "        # Configure input into proper data type\n",
    "        real_data = Variable(data.type(Tensor))\n",
    "\n",
    "        \n",
    "        # ----------------- #\n",
    "        #  Train Generator  #\n",
    "        # ----------------- #\n",
    "\n",
    "        # reset network gradiend to zero\n",
    "        optimizer_G.zero_grad()\n",
    "\n",
    "        # Sample noise as generator input\n",
    "        z = Variable(Tensor(np.random.normal(0, 1, (config.batch_size, config.z_dim)))) * 100.0\n",
    "\n",
    "        # Generate a batch of images\n",
    "        fake_data = generator(z)\n",
    "        fake_data_mbd = get_mini_batch(get_diff(fake_data))\n",
    "\n",
    "        # Loss measures generator's ability to fool the discriminator\n",
    "        g_loss = loss(discriminator(fake_data_mbd), real_label)\n",
    "\n",
    "        # calculate gradient and update parameters\n",
    "        g_loss.backward()\n",
    "        optimizer_G.step()\n",
    "\n",
    "        \n",
    "        \n",
    "        # --------------------- #\n",
    "        #  Train Discriminator  #\n",
    "        # --------------------- #\n",
    "\n",
    "        # reset network gradiend to zero\n",
    "        optimizer_D.zero_grad()\n",
    "\n",
    "        # Measure discriminator's ability to find real data\n",
    "        real_data_mbd = get_mini_batch(get_diff(real_data))\n",
    "        real_loss = loss(discriminator(real_data_mbd), real_label)\n",
    "        \n",
    "        # Sample noise as generator input\n",
    "        z = Variable(Tensor(np.random.normal(0, 1, (config.batch_size, config.z_dim)))) * 100.0\n",
    "\n",
    "        # Generate a batch of fake data, measure discriminator's ability to find fake data\n",
    "        fake_data = generator(z)        \n",
    "        fake_data_mbd = get_mini_batch(get_diff(fake_data))        \n",
    "        fake_loss = loss(discriminator(fake_data_mbd.detach()), fake_label)\n",
    "        \n",
    "        # Loss measures discriminator's ability to distinguish real and fake data\n",
    "        d_loss = real_loss + fake_loss\n",
    "        \n",
    "        # calculate gradient and update parameters           \n",
    "        d_loss.backward()\n",
    "        optimizer_D.step()\n",
    "        \n",
    "        \n",
    "    # show training status periodically\n",
    "    show_training_status(epoch, config, g_loss, d_loss, fake_data)\n",
    "       \n",
    "    \n",
    "print ('Training is done.')"
   ]
  },
  {
   "cell_type": "markdown",
   "metadata": {},
   "source": [
    "## Reload trained model for rhythm generation"
   ]
  },
  {
   "cell_type": "code",
   "execution_count": null,
   "metadata": {},
   "outputs": [],
   "source": [
    "reload = True\n",
    "\n",
    "reload_models(generator, discriminator, reload)"
   ]
  },
  {
   "cell_type": "markdown",
   "metadata": {},
   "source": [
    "## Generate 8 rhythms and store it in variable 'my_rhythm'"
   ]
  },
  {
   "cell_type": "code",
   "execution_count": null,
   "metadata": {},
   "outputs": [],
   "source": [
    "my_rhythm = generate_rhythm(generator, 8)"
   ]
  },
  {
   "cell_type": "markdown",
   "metadata": {},
   "source": [
    "## Save rhythm into MIDI file"
   ]
  },
  {
   "cell_type": "code",
   "execution_count": null,
   "metadata": {},
   "outputs": [],
   "source": [
    "file_name = 'my_rhythm.mid'\n",
    "\n",
    "write_midi(my_rhythm, file_name)"
   ]
  },
  {
   "cell_type": "markdown",
   "metadata": {},
   "source": [
    "## Synthesize MIDI into wave file"
   ]
  },
  {
   "cell_type": "code",
   "execution_count": null,
   "metadata": {},
   "outputs": [],
   "source": [
    "samp_rate = 32000\n",
    "file_name = 'my_rhythm.mid'\n",
    "\n",
    "syn_midi(file_name, samp_rate)"
   ]
  },
  {
   "cell_type": "markdown",
   "metadata": {},
   "source": [
    "## Play wave file"
   ]
  },
  {
   "cell_type": "code",
   "execution_count": null,
   "metadata": {},
   "outputs": [],
   "source": [
    "samp_rate = 32000\n",
    "file_name = 'my_rhythm.wav'\n",
    "\n",
    "ipd.Audio(file_name, rate=samp_rate)"
   ]
  },
  {
   "cell_type": "markdown",
   "metadata": {},
   "source": [
    "## Download the MIDI file"
   ]
  },
  {
   "cell_type": "code",
   "execution_count": null,
   "metadata": {},
   "outputs": [],
   "source": [
    "files.download('my_rhythm.mid')"
   ]
  }
 ],
 "metadata": {
  "kernelspec": {
   "display_name": "Python 3",
   "language": "python",
   "name": "python3"
  },
  "language_info": {
   "codemirror_mode": {
    "name": "ipython",
    "version": 3
   },
   "file_extension": ".py",
   "mimetype": "text/x-python",
   "name": "python",
   "nbconvert_exporter": "python",
   "pygments_lexer": "ipython3",
   "version": "3.6.5"
  }
 },
 "nbformat": 4,
 "nbformat_minor": 2
}
